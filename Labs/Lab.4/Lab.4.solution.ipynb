{
 "cells": [
  {
   "cell_type": "markdown",
   "metadata": {},
   "source": [
    "# Lab 4- Object Oriented Programming\n",
    "\n",
    "For all of the exercises below, make sure you provide tests of your solutions.\n"
   ]
  },
  {
   "cell_type": "markdown",
   "metadata": {},
   "source": [
    "1. Write a \"counter\" class that can be incremented up to a specified maximum value, will print an error if an attempt is made to increment beyond that value, and allows reseting the counter. "
   ]
  },
  {
   "cell_type": "code",
   "execution_count": 1,
   "metadata": {
    "tags": []
   },
   "outputs": [
    {
     "name": "stdout",
     "output_type": "stream",
     "text": [
      "1\n",
      "2\n",
      "3\n",
      "4\n",
      "5\n",
      "6\n",
      "7\n",
      "8\n",
      "9\n",
      "10\n",
      "Error: Maximum value reached. Cannot increment.\n",
      "Error: Maximum value reached. Cannot increment.\n"
     ]
    }
   ],
   "source": [
    "class Counter:\n",
    "    def __init__(self, max_value):\n",
    "        self.max_value = max_value\n",
    "        self.current_value = 0 # making starting value 0\n",
    "\n",
    "    def increment(self):\n",
    "        if self.current_value < self.max_value:\n",
    "            self.current_value += 1 #if less than max value, continue to add 1\n",
    "            return self.current_value\n",
    "        else:\n",
    "            return \"Error: Maximum value reached. Cannot increment.\" # once max is reached print this\n",
    "\n",
    "    def reset(self):\n",
    "        self.current_value = 0 # a way to reset the counter to zero\n",
    "        return \"Incrementer reset to 0.\"\n",
    "\n",
    "# Example\n",
    "incr = Counter(10)\n",
    "for _ in range(12):  # Trying to increment beyond the max value\n",
    "    print(incr.increment())"
   ]
  },
  {
   "cell_type": "markdown",
   "metadata": {},
   "source": [
    "2. Copy and paste your solution to question 1 and modify it so that all the data held by the counter is private. Implement functions to check the value of the counter, check the maximum value, and check if the counter is at the maximum."
   ]
  },
  {
   "cell_type": "code",
   "execution_count": 2,
   "metadata": {
    "tags": []
   },
   "outputs": [
    {
     "ename": "AttributeError",
     "evalue": "'Incrementer' object has no attribute 'increment'",
     "output_type": "error",
     "traceback": [
      "\u001b[0;31m---------------------------------------------------------------------------\u001b[0m",
      "\u001b[0;31mAttributeError\u001b[0m                            Traceback (most recent call last)",
      "Cell \u001b[0;32mIn[2], line 20\u001b[0m\n\u001b[1;32m     18\u001b[0m incr \u001b[38;5;241m=\u001b[39m Incrementer(\u001b[38;5;241m10\u001b[39m)\n\u001b[1;32m     19\u001b[0m \u001b[38;5;28;01mfor\u001b[39;00m _ \u001b[38;5;129;01min\u001b[39;00m \u001b[38;5;28mrange\u001b[39m(\u001b[38;5;241m12\u001b[39m):  \u001b[38;5;66;03m# Trying to increment beyond the max value\u001b[39;00m\n\u001b[0;32m---> 20\u001b[0m     \u001b[38;5;28mprint\u001b[39m(\u001b[43mincr\u001b[49m\u001b[38;5;241;43m.\u001b[39;49m\u001b[43mincrement\u001b[49m())\n",
      "\u001b[0;31mAttributeError\u001b[0m: 'Incrementer' object has no attribute 'increment'"
     ]
    }
   ],
   "source": [
    "class Incrementer:\n",
    "    def __init__(self, max_value):\n",
    "        self.max_value = max_value\n",
    "        self.current_value = 0\n",
    "\n",
    "    def __increment(self): # making the methods private \n",
    "        if self.current_value < self.max_value:\n",
    "            self.current_value += 1\n",
    "            return self.current_value\n",
    "        else:\n",
    "            return \"Error: Maximum value reached. Cannot increment.\"\n",
    "\n",
    "    def __reset(self):\n",
    "        self.current_value = 0\n",
    "        return \"Incrementer reset to 0.\"\n",
    "\n",
    "# Example \n",
    "incr = Incrementer(10)\n",
    "for _ in range(12):  # Trying to increment beyond the max value\n",
    "    print(incr.increment())"
   ]
  },
  {
   "cell_type": "markdown",
   "metadata": {},
   "source": [
    "3. Implement a class to represent a rectangle, holding the length, width, and $x$ and $y$ coordinates of a corner of the object. Implement functions that compute the area and perimeter of the rectangle. Make all data members private and privide accessors to retrieve values of data members. "
   ]
  },
  {
   "cell_type": "code",
   "execution_count": 2,
   "metadata": {
    "tags": []
   },
   "outputs": [
    {
     "name": "stdout",
     "output_type": "stream",
     "text": [
      "Area: 4\n",
      "Perimeter: 8\n"
     ]
    }
   ],
   "source": [
    "class rectangle:\n",
    "    def __init__(self,x,y,l,w, **kwargs):\n",
    "        self.__x=x \n",
    "        self.__y=y\n",
    "        self.__l=l\n",
    "        self.__w=w # creating the variables and making them private\n",
    "    \n",
    "    def area(self):\n",
    "        return self.__l*self.__w\n",
    "    def perimeter(self):\n",
    "        return 2*(self.__l+self.__w) # using the length & width to find the perimeter and area\n",
    "\n",
    "rectangle=rectangle(5,3,2,2) # testing the data\n",
    "print(\"Area:\", rectangle.area())\n",
    "print(\"Perimeter:\", rectangle.perimeter())"
   ]
  },
  {
   "cell_type": "markdown",
   "metadata": {},
   "source": [
    "4. Implement a class to represent a circle, holding the radius and $x$ and $y$ coordinates of center of the object. Implement functions that compute the area and perimeter of the rectangle. Make all data members private and privide accessors to retrieve values of data members. "
   ]
  },
  {
   "cell_type": "code",
   "execution_count": 3,
   "metadata": {
    "tags": []
   },
   "outputs": [
    {
     "name": "stdout",
     "output_type": "stream",
     "text": [
      "Area: 12.566370614359172\n",
      "Perimeter: 12.566370614359172\n"
     ]
    }
   ],
   "source": [
    "import math\n",
    "class circle:\n",
    "    def __init__(self,x,y,radius, **kwargs):\n",
    "        self.__x=x\n",
    "        self.__y=y\n",
    "        self.__radius=radius # variables for circle\n",
    "        \n",
    "    def area(self):\n",
    "        return math.pi*self.__radius**2\n",
    "    def perimeter(self):\n",
    "        return 2*math.pi*self.__radius # math to find the perimeter and area\n",
    "\n",
    "#example\n",
    "circle=circle(5,3,2)\n",
    "print(\"Area:\", circle.area())\n",
    "print(\"Perimeter:\", circle.perimeter())"
   ]
  },
  {
   "cell_type": "markdown",
   "metadata": {},
   "source": [
    "5. Implement a common base class for the classes implemented in 3 and 4 above which implements all common methods as not implemented functions (virtual). Re-implement your regtangle and circule classes to inherit from the base class and overload the functions accordingly. "
   ]
  },
  {
   "cell_type": "code",
   "execution_count": 4,
   "metadata": {
    "tags": []
   },
   "outputs": [
    {
     "name": "stdout",
     "output_type": "stream",
     "text": [
      "Circle Area: 12.566370614359172\n",
      "Circle Perimeter: 12.566370614359172\n",
      "Rectangle Area: 18\n",
      "Rectangle Perimeter: 18\n"
     ]
    }
   ],
   "source": [
    "class shape:\n",
    "    def __init__(self, x, y):\n",
    "        self.x = x # all shapes will have coordinates\n",
    "        self.y = y\n",
    "\n",
    "    def area(self):  # making it so that each subclass has its own area and perimeter method\n",
    "        raise NotImplementedError(\"Subclass must implement abstract method\")\n",
    "\n",
    "    def perimeter(self):\n",
    "        raise NotImplementedError(\"Subclass must implement abstract method\")\n",
    "\n",
    "class rectangle(shape):\n",
    "    def __init__(self,x,y,l,w):\n",
    "        super().__init__(x,y)\n",
    "        self.l=l\n",
    "        self.w=w\n",
    "    def area(self):\n",
    "        return self.l*self.w\n",
    "    def perimeter(self):\n",
    "        return 2*(self.l+self.w) # using the length & width to find the perimeter and area\n",
    "    \n",
    "class circle(shape):\n",
    "    def __init__(self, x, y, radius):\n",
    "        super().__init__(x, y)\n",
    "        self.radius = radius\n",
    "    def area(self):\n",
    "        return math.pi*self.radius**2\n",
    "    def perimeter(self):\n",
    "        return 2*math.pi*self.radius # math to find the perimeter and area\n",
    "\n",
    "# example \n",
    "circle = circle(5, 3, 2)\n",
    "print(\"Circle Area:\", circle.area())\n",
    "print(\"Circle Perimeter:\", circle.perimeter())\n",
    "\n",
    "rectangle = rectangle(2, 4, 6, 3)\n",
    "print(\"Rectangle Area:\", rectangle.area())\n",
    "print(\"Rectangle Perimeter:\", rectangle.perimeter())"
   ]
  },
  {
   "cell_type": "markdown",
   "metadata": {},
   "source": [
    "6. Implement a triangle class analogous to the rectangle and circle in question 5."
   ]
  },
  {
   "cell_type": "code",
   "execution_count": 5,
   "metadata": {
    "tags": []
   },
   "outputs": [
    {
     "name": "stdout",
     "output_type": "stream",
     "text": [
      "Triangle area: 4.0\n",
      "Rectangle Perimeter: 12\n"
     ]
    }
   ],
   "source": [
    "class triangle(shape):\n",
    "    def __init__(self,a,b,c,h,x,y):\n",
    "        super().__init__(x, y)\n",
    "        self.a=a\n",
    "        self.b=b\n",
    "        self.c=c\n",
    "        self.h=h \n",
    "    def area(self): #creating variables for triangle\n",
    "        return (self.h*self.b)/2\n",
    "    def perimeter(self):\n",
    "        return self.a+self.b+self.c # math to solve for area and perimeter\n",
    "\n",
    "triangle=triangle(3,4,5,2,0,0)\n",
    "print(\"Triangle area:\", triangle.area())  \n",
    "print(\"Rectangle Perimeter:\", triangle.perimeter())"
   ]
  },
  {
   "cell_type": "markdown",
   "metadata": {},
   "source": [
    "7. Add a function to the object classes, including the base, that returns a list of up to 16 pairs of  $x$ and $y$ points on the parameter of the object. "
   ]
  },
  {
   "cell_type": "code",
   "execution_count": 6,
   "metadata": {
    "tags": []
   },
   "outputs": [],
   "source": [
    "class shape:\n",
    "    def __init__(self, x, y):\n",
    "        self.x = x # all shapes will have coordinates\n",
    "        self.y = y\n",
    "    def area(self):  # making it so that each subclass has its own area and perimeter method\n",
    "        raise NotImplementedError(\"Subclass must implement abstract method\")\n",
    "    def perimeter(self):\n",
    "        raise NotImplementedError(\"Subclass must implement abstract method\")\n",
    "    def get_boundary(self):\n",
    "        raise NotImplementedError(\"Subclass must implement sample_points method\")\n",
    "\n",
    "class rectangle(shape):\n",
    "    def __init__(self,x,y,l,w):\n",
    "        super().__init__(x,y)\n",
    "        self.l=l\n",
    "        self.w=w\n",
    "    def area(self):\n",
    "        return self.l*self.w\n",
    "    def perimeter(self):\n",
    "        return 2*(self.l+self.w) # using the length & width to find the perimeter and area\n",
    "    def get_boundary(self):\n",
    "        boundary = []\n",
    "        for i in range(16):\n",
    "            if i < 4:\n",
    "                boundary.append((self.x + i, self.y))\n",
    "            elif i < 8:\n",
    "                boundary.append((self.x + self.l, self.y + i - 3))\n",
    "            elif i < 12:\n",
    "                boundary.append((self.x + self.l - (i - 7), self.y + self.w))\n",
    "            else:\n",
    "                boundary.append((self.x, self.y + self.w - (i - 11)))\n",
    "        return boundary\n",
    "\n",
    "class circle(shape):\n",
    "    def __init__(self, x, y, radius):\n",
    "        super().__init__(x, y)\n",
    "        self.radius = radius\n",
    "    def area(self):\n",
    "        return math.pi*self.radius**2\n",
    "    def perimeter(self):\n",
    "        return 2*math.pi*self.radius # math to find the perimeter and area\n",
    "    def get_boundary(self):\n",
    "        boundary = []\n",
    "        for i in range(16):\n",
    "            angle = 2 * 3.14 * i / 16\n",
    "            x = self.x + self.radius * math.cos(angle)\n",
    "            y = self.y + self.radius * math.sin(angle)\n",
    "            boundary.append((x, y))\n",
    "        return boundary\n",
    "\n",
    "class triangle(shape):\n",
    "    def __init__(self,a,b,c,h,x,y):\n",
    "        super().__init__(x, y)\n",
    "        self.a=a\n",
    "        self.b=b\n",
    "        self.c=c\n",
    "        self.h=h\n",
    "    def area(self):\n",
    "        return (self.h*self.b)/2\n",
    "    def perimeter(self):\n",
    "        return self.a+self.b+self.c\n",
    "    def get_boundary(self):\n",
    "        boundary = []\n",
    "        for i in range(16):\n",
    "            if i < 6:\n",
    "                x = self.x + i * self.a / 5\n",
    "                y = self.y\n",
    "            elif i < 11:\n",
    "                x = self.x + self.a\n",
    "                y = self.y + (i - 5) * self.b / 5\n",
    "            else:\n",
    "                x = self.x + self.a - (i - 10) * self.a / 5\n",
    "                y = self.y + self.b\n",
    "            boundary.append((x, y))\n",
    "        return boundary"
   ]
  },
  {
   "cell_type": "code",
   "execution_count": 7,
   "metadata": {
    "tags": []
   },
   "outputs": [
    {
     "name": "stdout",
     "output_type": "stream",
     "text": [
      "Rectangle boundary points: [(5, 3), (6, 3), (7, 3), (8, 3), (5, 4), (5, 5), (5, 6), (5, 7), (4, 3), (3, 3), (2, 3), (1, 3), (5, 2), (5, 1), (5, 0), (5, -1)]\n",
      "Circle boundary points: [(5.0, 0.0), (5.0, 0.0), (5.0, 0.0), (5.0, 0.0), (5.0, 0.0), (5.0, 0.0), (5.0, 0.0), (5.0, 0.0), (5.0, 0.0), (5.0, 0.0), (5.0, 0.0), (5.0, 0.0), (5.0, 0.0), (5.0, 0.0), (5.0, 0.0), (5.0, 0.0)]\n",
      "Triangle boundary points: [(0.0, 0), (0.6, 0), (1.2, 0), (1.8, 0), (2.4, 0), (3.0, 0), (3, 0.8), (3, 1.6), (3, 2.4), (3, 3.2), (3, 4.0), (2.4, 4), (1.8, 4), (1.2, 4), (0.6000000000000001, 4), (0.0, 4)]\n"
     ]
    }
   ],
   "source": [
    "rectangle = rectangle(5,3,0,0)\n",
    "circle = circle(5,0,0)\n",
    "triangle = triangle(3,4,5,2,0,0)\n",
    "\n",
    "print(\"Rectangle boundary points:\", rectangle.get_boundary())\n",
    "print(\"Circle boundary points:\", circle.get_boundary())\n",
    "print(\"Triangle boundary points:\", triangle.get_boundary())\n"
   ]
  },
  {
   "cell_type": "markdown",
   "metadata": {},
   "source": [
    "8. Add a function to the object classes, including the base, that tests if a given set of $x$ and $y$ coordinates are inside of the object. You'll have to think through how to determine if a set of coordinates are inside an object for each object type."
   ]
  },
  {
   "cell_type": "code",
   "execution_count": 8,
   "metadata": {
    "tags": []
   },
   "outputs": [],
   "source": [
    "class shape:\n",
    "    def __init__(self, x, y):\n",
    "        self.x = x # all shapes will have coordinates\n",
    "        self.y = y\n",
    "    def area(self):  # making it so that each subclass has its own methods\n",
    "        raise NotImplementedError(\"Subclass must implement abstract method\")\n",
    "    def perimeter(self):\n",
    "        raise NotImplementedError(\"Subclass must implement abstract method\")\n",
    "    def get_boundary(self):\n",
    "        raise NotImplementedError(\"Subclass must implement abstract method\")\n",
    "    def contains_points(self):\n",
    "        raise NotImplementedError(\"Subclass must implement abstract method\")\n",
    "\n",
    "class rectangle(shape):\n",
    "    def __init__(self,x,y,l,w):\n",
    "        super().__init__(x,y)\n",
    "        self.l=l\n",
    "        self.w=w\n",
    "    def area(self):\n",
    "        return self.l*self.w\n",
    "    def perimeter(self):\n",
    "        return 2*(self.l+self.w) # using the length & width to find the perimeter and area\n",
    "    def get_boundary(self):\n",
    "        boundary = []\n",
    "        for i in range(16):\n",
    "            if i < 4:\n",
    "                boundary.append((self.x + i, self.y))\n",
    "            elif i < 8:\n",
    "                boundary.append((self.x + self.l, self.y + i - 3))\n",
    "            elif i < 12:\n",
    "                boundary.append((self.x + self.l - (i - 7), self.y + self.w))\n",
    "            else:\n",
    "                boundary.append((self.x, self.y + self.w - (i - 11)))\n",
    "        return boundary\n",
    "    def contains_point(self, x, y) -> bool: # making this method a boolean \n",
    "        half_l = self.l / 2\n",
    "        half_w = self.w / 2 #take both the length and width of the rectangle and divide in half\n",
    "        return (self.x - half_l <= x <= self.x + half_l) and (self.y - half_w <= y <= self.y + half_w)\n",
    "                        # then checks if each of the x and y coordinates provided are between x/y and the half of the length and width\n",
    "class circle(shape):\n",
    "    def __init__(self, x, y, radius):\n",
    "        super().__init__(x, y)\n",
    "        self.radius = radius\n",
    "    def area(self):\n",
    "        return math.pi*self.radius**2\n",
    "    def perimeter(self):\n",
    "        return 2*math.pi*self.radius # math to find the perimeter and area\n",
    "    def get_boundary(self):\n",
    "        boundary = []\n",
    "        for i in range(16):\n",
    "            angle = 2 * 3.14 * i / 16\n",
    "            x = self.x + self.radius * math.cos(angle)\n",
    "            y = self.y + self.radius * math.sin(angle)\n",
    "            boundary.append((x, y))\n",
    "        return boundary\n",
    "    def contains_point(self, x, y) -> bool:\n",
    "        dx = x - self.x\n",
    "        dy = y - self.y \n",
    "        return (dx * dx + dy * dy) <= self.radius**2\n",
    "                 #squaring the radius and seeing if the points provided lies on or inside the circle\n",
    "class triangle(shape):\n",
    "    def __init__(self,a,b,c,h,x,y):\n",
    "        super().__init__(x, y)\n",
    "        self.a=a\n",
    "        self.b=b\n",
    "        self.c=c\n",
    "        self.h=h\n",
    "    def area(self, points=None):\n",
    "        # If no points are passed, calculate the area of the triangle using its base and height \n",
    "        if points is None:\n",
    "            return (self.h * self.b) / 2\n",
    "        else:\n",
    "            # Otherwise, calculate the area of the triangle given the three points\n",
    "            A, B, C = points\n",
    "            return abs(A[0] * (B[1] - C[1]) + B[0] * (C[1] - A[1]) + C[0] * (A[1] - B[1])) / 2\n",
    "\n",
    "    def perimeter(self):\n",
    "        return self.a+self.b+self.c\n",
    "    def get_boundary(self):\n",
    "        boundary = []\n",
    "        for i in range(16):\n",
    "            if i < 6:\n",
    "                x = self.x + i * self.a / 5\n",
    "                y = self.y\n",
    "            elif i < 11:\n",
    "                x = self.x + self.a\n",
    "                y = self.y + (i - 5) * self.b / 5\n",
    "            else:\n",
    "                x = self.x + self.a - (i - 10) * self.a / 5\n",
    "                y = self.y + self.b\n",
    "            boundary.append((x, y))\n",
    "        return boundary\n",
    "    \n",
    "    def contains_point(self, x, y) -> bool:\n",
    "        A = (self.x, self.y)  # left corner of the triangle\n",
    "        B = (self.x + self.b, self.y)  # right corner of the triangle's base\n",
    "        C = (self.x + self.b / 2, self.y + self.h)  # Top of the triangle\n",
    "        P = (x, y)\n",
    "\n",
    "        # Calculate the areas of the main triangle and the sub-triangles formed with the point P\n",
    "        area_ABC = self.area([A, B, C])\n",
    "        area_PAB = self.area([P, A, B])\n",
    "        area_PBC = self.area([P, B, C])\n",
    "        area_PCA = self.area([P, C, A])\n",
    "\n",
    "        # Check if the point is inside the triangle (the areas must sum up to the total area)\n",
    "        return area_ABC == area_PAB + area_PBC + area_PCA"
   ]
  },
  {
   "cell_type": "code",
   "execution_count": 9,
   "metadata": {
    "tags": []
   },
   "outputs": [
    {
     "name": "stdout",
     "output_type": "stream",
     "text": [
      "Testing Rectangle contains_point:\n",
      "Point (0, 0) inside rectangle? True\n",
      "Point (5, 5) inside rectangle? True\n",
      "Point (3, 3) inside rectangle? True\n",
      "Point (-4, -2) inside rectangle? False\n",
      "Point (1, 1) inside rectangle? True\n",
      "Point (10, 10) inside rectangle? False\n",
      "\n",
      "Testing Circle contains_point:\n",
      "Point (0, 0) inside circle? False\n",
      "Point (5, 5) inside circle? False\n",
      "Point (3, 3) inside circle? False\n",
      "Point (-4, -2) inside circle? False\n",
      "Point (1, 1) inside circle? False\n",
      "Point (10, 10) inside circle? False\n",
      "\n",
      "Testing Triangle contains_point:\n",
      "Point (0, 0) inside triangle? True\n",
      "Point (5, 5) inside triangle? False\n",
      "Point (3, 3) inside triangle? False\n",
      "Point (-4, -2) inside triangle? False\n",
      "Point (1, 1) inside triangle? True\n",
      "Point (10, 10) inside triangle? False\n"
     ]
    }
   ],
   "source": [
    "if __name__ == \"__main__\":\n",
    "    rect = rectangle(5, 3, 10, 6)   \n",
    "    circ = circle(5, 0, 3)\n",
    "    tri = triangle(3, 4, 5, 2, 0, 0)  #points/size of original of all shapes\n",
    "\n",
    "    test_points = [(0, 0), (5, 5), (3, 3), (-4, -2), (1, 1), (10, 10)]\n",
    "    # Points we are testing for all shapes\n",
    "\n",
    "    print(\"Testing Rectangle contains_point:\")\n",
    "    for pt in test_points:\n",
    "        print(f\"Point {pt} inside rectangle? {rect.contains_point(*pt)}\")\n",
    "    \n",
    "    print(\"\\nTesting Circle contains_point:\")\n",
    "    for pt in test_points:\n",
    "        print(f\"Point {pt} inside circle? {circ.contains_point(*pt)}\")\n",
    "    \n",
    "    print(\"\\nTesting Triangle contains_point:\")\n",
    "    for pt in test_points:\n",
    "        print(f\"Point {pt} inside triangle? {tri.contains_point(*pt)}\")\n",
    "             # print whether the points are within the shape "
   ]
  },
  {
   "cell_type": "markdown",
   "metadata": {},
   "source": [
    "9. Add a function in the base class of the object classes that returns true/false testing that the object overlaps with another object."
   ]
  },
  {
   "cell_type": "code",
   "execution_count": 2,
   "metadata": {
    "tags": []
   },
   "outputs": [],
   "source": [
    "class shape:\n",
    "    def __init__(self, x, y):\n",
    "        self.x = x # all shapes will have coordinates\n",
    "        self.y = y\n",
    "    def area(self):  # making it so that each subclass has its own methods\n",
    "        raise NotImplementedError(\"Subclass must implement abstract method\")\n",
    "    def perimeter(self):\n",
    "        raise NotImplementedError(\"Subclass must implement abstract method\")\n",
    "    def get_boundary(self):\n",
    "        raise NotImplementedError(\"Subclass must implement abstract method\")\n",
    "    def contains_points(self):\n",
    "        raise NotImplementedError(\"Subclass must implement abstract method\")\n",
    "\n",
    "class rectangle(shape):\n",
    "    def __init__(self, x, y, l, w):\n",
    "        super().__init__(x, y)\n",
    "        self.l = l\n",
    "        self.w = w\n",
    "    def area(self):\n",
    "        return self.l * self.w\n",
    "    def perimeter(self):\n",
    "        return 2 * (self.l + self.w)\n",
    "    def get_boundary(self):\n",
    "        boundary = []\n",
    "        for i in range(16):\n",
    "            if i < 4:\n",
    "                boundary.append((self.x + i, self.y))\n",
    "            elif i < 8:\n",
    "                boundary.append((self.x + self.l, self.y + i - 3))\n",
    "            elif i < 12:\n",
    "                boundary.append((self.x + self.l - (i - 7), self.y + self.w))\n",
    "            else:\n",
    "                boundary.append((self.x, self.y + self.w - (i - 11)))\n",
    "        return boundary\n",
    "    def contains_point(self, x, y) -> bool:\n",
    "        half_l = self.l / 2\n",
    "        half_w = self.w / 2\n",
    "        return (self.x - half_l <= x <= self.x + half_l) and (self.y - half_w <= y <= self.y + half_w)\n",
    "    def overlaps_with(self, other):\n",
    "        # Check for overlap between two rectangles\n",
    "        if isinstance(other, rectangle):\n",
    "            return not (self.x + self.l < other.x or  # self is to the left of other\n",
    "                        self.x > other.x + other.l or  # self is to the right of other\n",
    "                        self.y + self.w < other.y or  # self is below other\n",
    "                        self.y > other.y + other.w)  # self is above other\n",
    "        return False  \n",
    "\n",
    "\n",
    "class circle(shape):\n",
    "    def __init__(self, x, y, radius):\n",
    "        super().__init__(x, y)\n",
    "        self.radius = radius\n",
    "    def area(self):\n",
    "        return math.pi * self.radius**2\n",
    "    def perimeter(self):\n",
    "        return 2 * math.pi * self.radius\n",
    "    def get_boundary(self):\n",
    "        boundary = []\n",
    "        for i in range(16):\n",
    "            angle = 2 * 3.14 * i / 16\n",
    "            x = self.x + self.radius * math.cos(angle)\n",
    "            y = self.y + self.radius * math.sin(angle)\n",
    "            boundary.append((x, y))\n",
    "        return boundary\n",
    "    def contains_point(self, x, y) -> bool:\n",
    "        dx = x - self.x\n",
    "        dy = y - self.y\n",
    "        return (dx * dx + dy * dy) <= self.radius**2\n",
    "    def overlaps_with(self, other):\n",
    "        # Check for overlap between two circles\n",
    "        if isinstance(other, circle):\n",
    "            dx = other.x - self.x\n",
    "            dy = other.y - self.y\n",
    "            distance = math.sqrt(dx**2 + dy**2)\n",
    "            return distance < (self.radius + other.radius)\n",
    "        return False  \n",
    "\n",
    "class triangle(shape):\n",
    "    def __init__(self, a, b, c, h, x, y):\n",
    "        super().__init__(x, y)\n",
    "        self.a = a\n",
    "        self.b = b\n",
    "        self.c = c\n",
    "        self.h = h\n",
    "    def area(self):\n",
    "        return (self.h * self.b) / 2\n",
    "    def perimeter(self):\n",
    "        return self.a + self.b + self.c\n",
    "    def get_boundary(self):\n",
    "        boundary = []\n",
    "        for i in range(16):\n",
    "            if i < 6:\n",
    "                x = self.x + i * self.a / 5\n",
    "                y = self.y\n",
    "            elif i < 11:\n",
    "                x = self.x + self.a\n",
    "                y = self.y + (i - 5) * self.b / 5\n",
    "            else:\n",
    "                x = self.x + self.a - (i - 10) * self.a / 5\n",
    "                y = self.y + self.b\n",
    "            boundary.append((x, y))\n",
    "        return boundary\n",
    "    def contains_point(self, x, y) -> bool:\n",
    "        A = (self.x, self.y)\n",
    "        B = (self.x + self.b, self.y)\n",
    "        C = (self.x + self.b / 2, self.y + self.h)\n",
    "        P = (x, y)\n",
    "\n",
    "        area_ABC = self.area([A, B, C])\n",
    "        area_PAB = self.area([P, A, B])\n",
    "        area_PBC = self.area([P, B, C])\n",
    "        area_PCA = self.area([P, C, A])\n",
    "\n",
    "        return area_ABC == area_PAB + area_PBC + area_PCA\n",
    "    def overlaps_with(self, other):\n",
    "        # check for overlap between two triangles \n",
    "        if isinstance(other, triangle):\n",
    "            return not (self.x + self.b < other.x or  # self is to the left of other\n",
    "                        self.x > other.x + other.b or  # self is to the right of other\n",
    "                        self.y + self.h < other.y or  # self is below other\n",
    "                        self.y > other.y + other.h)  # self is above other\n",
    "        return False  \n"
   ]
  },
  {
   "cell_type": "code",
   "execution_count": 3,
   "metadata": {
    "tags": []
   },
   "outputs": [
    {
     "name": "stdout",
     "output_type": "stream",
     "text": [
      "Rectangle 1 and Rectangle 2 overlap: True\n",
      "Rectangle 1 and Circle 1 overlap: False\n",
      "Circle 1 and Circle 2 overlap: True\n",
      "Rectangle 1 and Triangle 1 overlap: False\n",
      "Triangle 1 and Triangle 2 overlap: True\n"
     ]
    }
   ],
   "source": [
    "import math\n",
    "\n",
    "#testing code\n",
    "rect1 = rectangle(0, 0, 4, 5)  # rectangle at (0, 0) with length 4 and width 5\n",
    "rect2 = rectangle(2, 2, 4, 5)  # rectangle at (2, 2) with length 4 and width 5\n",
    "circle1 = circle(0, 0, 3)      # circle at (0, 0) with radius 3\n",
    "circle2 = circle(3, 3, 3)      # circle at (3, 3) with radius 3\n",
    "tri1 = triangle(4, 4, 4, 4, 0, 0)  #triangle with base 4, height 4, and starting at (0, 0)\n",
    "tri2 = triangle(4, 4, 4, 4, 2, 2)  #triangle with base 4, height 4, and starting at (2, 2)\n",
    "\n",
    "print(\"Rectangle 1 and Rectangle 2 overlap:\", rect1.overlaps_with(rect2))\n",
    "print(\"Rectangle 1 and Circle 1 overlap:\", rect1.overlaps_with(circle1))\n",
    "print(\"Circle 1 and Circle 2 overlap:\", circle1.overlaps_with(circle2))\n",
    "print(\"Rectangle 1 and Triangle 1 overlap:\", rect1.overlaps_with(tri1))\n",
    "print(\"Triangle 1 and Triangle 2 overlap:\", tri1.overlaps_with(tri2))\n",
    "\n"
   ]
  },
  {
   "cell_type": "markdown",
   "metadata": {},
   "source": [
    "10. Copy the `Canvas` class from lecture to in a python file creating a `paint` module. Copy your classes from above into the module and implement paint functions. Implement a `CompoundShape` class. Create a simple drawing demonstrating that all of your classes are working."
   ]
  },
  {
   "cell_type": "code",
   "execution_count": 4,
   "metadata": {
    "tags": []
   },
   "outputs": [],
   "source": [
    "import math\n",
    "import tkinter as tk\n",
    "class CompoundShape(shape):\n",
    "    def __init__(self):\n",
    "        self.shapes = []\n",
    "\n",
    "    def add_shape(self, shape):\n",
    "        self.shapes.append(shape)\n",
    "\n",
    "    def area(self):\n",
    "        return sum(s.area() for s in self.shapes)\n",
    "\n",
    "    def perimeter(self):\n",
    "        return sum(s.perimeter() for s in self.shapes)\n",
    "\n",
    "    def get_boundary(self):\n",
    "        boundary = []\n",
    "        for s in self.shapes:\n",
    "            boundary.extend(s.get_boundary())\n",
    "        return boundary\n",
    "\n",
    "    def contains_points(self):\n",
    "        # Composite contains_point method\n",
    "        pass\n",
    "\n",
    "    def overlaps_with(self, other):\n",
    "        for shape in self.shapes:\n",
    "            if any(shape.overlaps_with(o) for o in other.shapes):\n",
    "                return True\n",
    "        return False\n",
    "\n",
    "\n",
    "# Canvas class using tkinter for basic drawing\n",
    "class Canvas(tk.Canvas):\n",
    "    def __init__(self, root, width=500, height=500):\n",
    "        super().__init__(root, width=width, height=height)\n",
    "        self.pack()\n",
    "\n",
    "    def draw_shape(self, shape):\n",
    "        if isinstance(shape, rectangle):\n",
    "            self.create_rectangle(shape.x, shape.y, shape.x + shape.l, shape.y + shape.w, fill=\"blue\")\n",
    "        elif isinstance(shape, circle):\n",
    "            self.create_oval(shape.x - shape.radius, shape.y - shape.radius,\n",
    "                             shape.x + shape.radius, shape.y + shape.radius, fill=\"red\")\n",
    "        elif isinstance(shape, triangle):\n",
    "            self.create_polygon(shape.x, shape.y, \n",
    "                                shape.x + shape.b, shape.y, \n",
    "                                shape.x + shape.b / 2, shape.y + shape.h, \n",
    "                                fill=\"green\")\n",
    "\n",
    "\n",
    "def drawing():\n",
    "    root = tk.Tk()\n",
    "    canvas = Canvas(root)\n",
    "\n",
    "    # Create shapes\n",
    "    rect1 = rectangle(50, 50, 100, 100)\n",
    "    circ1 = circle(200, 200, 50)\n",
    "    tri1 = triangle(300, 100, 400, 100, 200, 300)\n",
    "\n",
    "    # Create a compound shape and add individual shapes\n",
    "    compound = CompoundShape()\n",
    "    compound.add_shape(rect1)\n",
    "    compound.add_shape(circ1)\n",
    "\n",
    "    # Draw the shapes\n",
    "    canvas.draw_shape(rect1)\n",
    "    canvas.draw_shape(circ1)\n",
    "    canvas.draw_shape(tri1)\n",
    "\n",
    "    # Test overlap\n",
    "    print(\"Do the rectangle and circle overlap?\", rect1.overlaps_with(circ1))\n",
    "    print(\"Do the compound shape and triangle overlap?\", compound.overlaps_with(CompoundShape()))  \n",
    "\n",
    "    root.mainloop()\n"
   ]
  },
  {
   "cell_type": "code",
   "execution_count": null,
   "metadata": {},
   "outputs": [
    {
     "name": "stdout",
     "output_type": "stream",
     "text": [
      "Do the rectangle and circle overlap? False\n",
      "Do the compound shape and triangle overlap? False\n"
     ]
    }
   ],
   "source": [
    "if __name__ == \"__main__\":\n",
    "    drawing()"
   ]
  },
  {
   "cell_type": "markdown",
   "metadata": {},
   "source": [
    "11. Create a `RasterDrawing` class. Demonstrate that you can create a drawing made of several shapes, paint the drawing, modify the drawing, and paint it again. "
   ]
  },
  {
   "cell_type": "code",
   "execution_count": 7,
   "metadata": {
    "tags": []
   },
   "outputs": [],
   "source": [
    "import matplotlib.pyplot as plt\n",
    "import numpy as np\n",
    "class RasterDrawing:\n",
    "    def __init__(self):\n",
    "        self.shapes = []\n",
    "\n",
    "    def add_shape(self, shape):\n",
    "        \"\"\"Add a shape to the drawing.\"\"\"\n",
    "        self.shapes.append(shape)\n",
    "\n",
    "    def remove_shape(self, shape):\n",
    "        \"\"\"Remove a shape from the drawing.\"\"\"\n",
    "        self.shapes.remove(shape)\n",
    "\n",
    "    def modify_shape(self, index, new_shape):\n",
    "        \"\"\"Modify an existing shape in the drawing.\"\"\"\n",
    "        self.shapes[index] = new_shape\n",
    "\n",
    "    def paint(self):\n",
    "        \"\"\"Paint the drawing.\"\"\"\n",
    "        fig, ax = plt.subplots()\n",
    "        \n",
    "        # Draw each shape\n",
    "        for shape in self.shapes:\n",
    "            boundary = shape.get_boundary()\n",
    "            xs, ys = zip(*boundary)  # Unzip the boundary points\n",
    "\n",
    "            if isinstance(shape, rectangle):\n",
    "                ax.fill(xs + (xs[0],), ys + (ys[0],), 'r', alpha=0.5, label=\"Rectangle\")\n",
    "            elif isinstance(shape, circle):\n",
    "                # Circle is drawn using parametric equation\n",
    "                ax.fill(xs, ys, 'b', alpha=0.5, label=\"Circle\")\n",
    "            elif isinstance(shape, triangle):\n",
    "                ax.fill(xs + (xs[0],), ys + (ys[0],), 'g', alpha=0.5, label=\"Triangle\")\n",
    "        \n",
    "        # Set the axes limits and aspect ratio\n",
    "        ax.set_xlim(0, 500)\n",
    "        ax.set_ylim(0, 500)\n",
    "        ax.set_aspect('equal', 'box')\n",
    "        plt.legend()\n",
    "        plt.show()\n"
   ]
  },
  {
   "cell_type": "code",
   "execution_count": 8,
   "metadata": {
    "tags": []
   },
   "outputs": [
    {
     "data": {
      "image/png": "[encoded data removed]",
      "text/plain": [
       "<Figure size 640x480 with 1 Axes>"
      ]
     },
     "metadata": {},
     "output_type": "display_data"
    }
   ],
   "source": [
    "def simple_drawing():\n",
    "    # Create shapes\n",
    "    rect1 = rectangle(50, 50, 100, 100)\n",
    "    circ1 = circle(200, 200, 50)\n",
    "    tri1 = triangle(300, 100, 400, 100, 200, 300)\n",
    "\n",
    "    # Create a RasterDrawing and add shapes\n",
    "    drawing = RasterDrawing()\n",
    "    drawing.add_shape(rect1)\n",
    "    drawing.add_shape(circ1)\n",
    "    drawing.add_shape(tri1)\n",
    "\n",
    "    # Paint the shapes\n",
    "    drawing.paint()\n",
    "\n",
    "# Call the function to display the drawing\n",
    "simple_drawing()\n"
   ]
  },
  {
   "cell_type": "markdown",
   "metadata": {},
   "source": [
    "12. Implement the ability to load/save raster drawings and demonstate that your method works. One way to implement this ability:\n",
    "\n",
    "   * Overload `__repr__` functions of all objects to return strings of the python code that would construct the object.\n",
    "   \n",
    "   * In the save method of raster drawing class, store the representations into the file.\n",
    "   * Write a loader function that reads the file and uses `eval` to instantiate the object.\n",
    "\n",
    "For example:"
   ]
  },
  {
   "cell_type": "code",
   "execution_count": null,
   "metadata": {},
   "outputs": [],
   "source": [
    "class foo:\n",
    "    def __init__(self,a,b=None):\n",
    "        self.a=a\n",
    "        self.b=b\n",
    "        \n",
    "    def __repr__(self):\n",
    "        return \"foo(\"+repr(self.a)+\",\"+repr(self.b)+\")\"\n",
    "    \n",
    "    def save(self,filename):\n",
    "        f=open(filename,\"w\")\n",
    "        f.write(self.__repr__())\n",
    "        f.close()\n",
    "        \n",
    "   \n",
    "def foo_loader(filename):\n",
    "    f=open(filename,\"r\")\n",
    "    tmp=eval(f.read())\n",
    "    f.close()\n",
    "    return tmp\n"
   ]
  },
  {
   "cell_type": "code",
   "execution_count": null,
   "metadata": {},
   "outputs": [],
   "source": [
    "# Test\n",
    "print(repr(foo(1,\"hello\")))"
   ]
  },
  {
   "cell_type": "code",
   "execution_count": null,
   "metadata": {},
   "outputs": [],
   "source": [
    "# Create an object and save it\n",
    "ff=foo(1,\"hello\")\n",
    "ff.save(\"Test.foo\")"
   ]
  },
  {
   "cell_type": "code",
   "execution_count": null,
   "metadata": {},
   "outputs": [],
   "source": [
    "# Check contents of the saved file\n",
    "!cat Test.foo"
   ]
  },
  {
   "cell_type": "code",
   "execution_count": null,
   "metadata": {
    "tags": []
   },
   "outputs": [],
   "source": [
    "# Load the object\n",
    "ff_reloaded=foo_loader(\"Test.foo\")\n",
    "ff_reloaded"
   ]
  },
  {
   "cell_type": "code",
   "execution_count": null,
   "metadata": {},
   "outputs": [],
   "source": []
  },
  {
   "cell_type": "code",
   "execution_count": null,
   "metadata": {},
   "outputs": [],
   "source": []
  },
  {
   "cell_type": "code",
   "execution_count": null,
   "metadata": {},
   "outputs": [],
   "source": []
  }
 ],
 "metadata": {
  "kernelspec": {
   "display_name": "Python 3 (ipykernel)",
   "language": "python",
   "name": "python3"
  },
  "language_info": {
   "codemirror_mode": {
    "name": "ipython",
    "version": 3
   },
   "file_extension": ".py",
   "mimetype": "text/x-python",
   "name": "python",
   "nbconvert_exporter": "python",
   "pygments_lexer": "ipython3",
   "version": "3.9.6"
  }
 },
 "nbformat": 4,
 "nbformat_minor": 4
}
