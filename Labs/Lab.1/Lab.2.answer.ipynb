{
 "cells": [
  {
   "cell_type": "markdown",
   "metadata": {},
   "source": [
    "## Lab 2- Tic Tac Toe\n",
    "\n",
    "In this lab your will build a n x n Tic Tac Toe game. As you do the exercises, make sure your solutions work for any size Tic Tac Toe game. "
   ]
  },
  {
   "cell_type": "markdown",
   "metadata": {},
   "source": [
    "*Exercise 1:* Write a function that creates an n by n matrix (of list of lists) which will represent the state of a Tie Tac Toe game. Let 0, 1, and 2 represent empty, \"X\", and \"O\", respectively.\n"
   ]
  },
  {
   "cell_type": "code",
   "execution_count": 24,
   "metadata": {
    "tags": []
   },
   "outputs": [],
   "source": [
    "player_1 = 1\n",
    "player_2 = 2 \n",
    "empty = 0\n",
    "\n",
    "space_character= {0: \" \",\n",
    "                  2: \"O\",\n",
    "                  1: \"X\"}\n"
   ]
  },
  {
   "cell_type": "code",
   "execution_count": 25,
   "metadata": {
    "tags": []
   },
   "outputs": [
    {
     "data": {
      "text/plain": [
       "{0: ' ', 2: 'O', 1: 'X'}"
      ]
     },
     "execution_count": 25,
     "metadata": {},
     "output_type": "execute_result"
    }
   ],
   "source": [
    "space_character"
   ]
  },
  {
   "cell_type": "markdown",
   "metadata": {},
   "source": [
    "*Exercise 2:* Write a function that takes 2 integers `n` and `m` as input and draws a `n` by `m` game board. For example the following is a 3x3 board:\n",
    "```\n",
    "   --- --- --- \n",
    "  |   |   |   | \n",
    "   --- --- ---  \n",
    "  |   |   |   | \n",
    "   --- --- ---  \n",
    "  |   |   |   | \n",
    "   --- --- --- \n",
    "   ```"
   ]
  },
  {
   "cell_type": "code",
   "execution_count": 26,
   "metadata": {
    "tags": []
   },
   "outputs": [],
   "source": [
    "def make_ttt_board(size=3):\n",
    "    return [[empty] * size for _ in range(size)]"
   ]
  },
  {
   "cell_type": "code",
   "execution_count": 27,
   "metadata": {
    "tags": []
   },
   "outputs": [
    {
     "data": {
      "text/plain": [
       "[[0, 0, 0], [0, 0, 0], [0, 0, 0]]"
      ]
     },
     "execution_count": 27,
     "metadata": {},
     "output_type": "execute_result"
    }
   ],
   "source": [
    "board_0=make_ttt_board()\n",
    "board_0"
   ]
  },
  {
   "cell_type": "markdown",
   "metadata": {},
   "source": [
    "*Exercise 3:* Modify exercise 2, so that it takes a matrix of the form from exercise 1 and draws a tic-tac-tie board with \"X\"s and \"O\"s.  "
   ]
  },
  {
   "cell_type": "code",
   "execution_count": 28,
   "metadata": {
    "tags": []
   },
   "outputs": [],
   "source": [
    "def draw_board(board):\n",
    "    size = len(board)\n",
    "    for i in range(size):\n",
    "        print(\" ---\" * size) # print the top border\n",
    "        for j in range(size):\n",
    "            print(f\"| {space_character[board[i][j]]}\", end=\" \") # vertical lines for the beg./ mid columns\n",
    "        print(\"|\")  # vertical line for border for last cell\n",
    "    print(\" ---\" * size) # print the bottom border\n"
   ]
  },
  {
   "cell_type": "code",
   "execution_count": 29,
   "metadata": {
    "tags": []
   },
   "outputs": [
    {
     "name": "stdout",
     "output_type": "stream",
     "text": [
      " --- --- ---\n",
      "| X |   |   |\n",
      " --- --- ---\n",
      "|   | O |   |\n",
      " --- --- ---\n",
      "|   |   |   |\n",
      " --- --- ---\n"
     ]
    }
   ],
   "source": [
    "board_0[0][0] = player_1  #Player 1 places X at (0, 0)\n",
    "board_0[1][1] = player_2  #Player 2 places O at (1, 1)\n",
    "\n",
    "draw_board(board_0)"
   ]
  },
  {
   "cell_type": "markdown",
   "metadata": {},
   "source": [
    "*Exercise 4:* Write a function that takes a `n` by `n` matrix representing a tic-tac-toe game, and returns -1, 0, 1, or 2 indicating the game is incomplete, the game is a draw, player 1 has won, or player 2 has one, respectively. Here are some example inputs you can use to test your code:"
   ]
  },
  {
   "cell_type": "code",
   "execution_count": 30,
   "metadata": {
    "tags": []
   },
   "outputs": [],
   "source": [
    "def check_winner(board):\n",
    "    size = len(board)\n",
    "    #checking to see if the rows are empty or have the same symbol\n",
    "    for row in board:\n",
    "        if row[0] == row[1] == row[2] != empty:\n",
    "            return row[0] \n",
    "    # checking to see if the columns are empty or have the same symbol\n",
    "    for col in range(size):\n",
    "        if board[0][col] == board[1][col] == board[2][col] != empty:\n",
    "            return board[0][col]  \n",
    "        \n",
    "    # checking both diagonols to see if they are empty or the same\n",
    "    if board[0][0] == board[1][1] == board[2][2] != empty:\n",
    "        return board[0][0]  \n",
    "    if board[0][2] == board[1][1] == board[2][0] != empty:\n",
    "        return board[0][2]  \n",
    "    \n",
    "    for row in board:\n",
    "        if empty in row:\n",
    "            return #if any of the rows are empty, put incomplete (-1)\n",
    "\n",
    "    return 0  # Else return as a draw\n"
   ]
  },
  {
   "cell_type": "code",
   "execution_count": 31,
   "metadata": {
    "tags": []
   },
   "outputs": [
    {
     "name": "stdout",
     "output_type": "stream",
     "text": [
      "Player 2 wins!\n"
     ]
    }
   ],
   "source": [
    "# example board\n",
    "winner_is_2 = [[2, 2, 0],\n",
    "               [2, 1, 0],\n",
    "               [2, 1, 1]]\n",
    "\n",
    "# checking for a winner\n",
    "result = check_winner(winner_is_2)\n",
    "\n",
    "if result == player_1:\n",
    "    print(\"Player 1 wins!\")\n",
    "elif result == player_2:\n",
    "    print(\"Player 2 wins!\")\n",
    "elif result == -1:\n",
    "    print(\"Game is incomplete.\")\n",
    "else:\n",
    "    print(\"Game is a draw.\")\n"
   ]
  },
  {
   "cell_type": "code",
   "execution_count": 32,
   "metadata": {
    "tags": []
   },
   "outputs": [
    {
     "name": "stdout",
     "output_type": "stream",
     "text": [
      "Player 1 wins!\n"
     ]
    }
   ],
   "source": [
    "winner_is_1 = [[1, 2, 0],\n",
    "               [2, 1, 0],\n",
    "               [2, 1, 1]]\n",
    "result = check_winner(winner_is_1)\n",
    "\n",
    "if result == player_1:\n",
    "    print(\"Player 1 wins!\")\n",
    "elif result == player_2:\n",
    "    print(\"Player 2 wins!\")\n",
    "elif result == -1:\n",
    "    print(\"Game is incomplete.\")\n",
    "else:\n",
    "    print(\"Game is a draw.\")"
   ]
  },
  {
   "cell_type": "code",
   "execution_count": 33,
   "metadata": {
    "tags": []
   },
   "outputs": [
    {
     "name": "stdout",
     "output_type": "stream",
     "text": [
      "Player 1 wins!\n"
     ]
    }
   ],
   "source": [
    "winner_is_also_1 = [[0, 1, 0],\n",
    "                    [2, 1, 0],\n",
    "                    [2, 1, 1]]\n",
    "result = check_winner(winner_is_also_1)\n",
    "if result == player_1:\n",
    "    print(\"Player 1 wins!\")\n",
    "elif result == player_2:\n",
    "    print(\"Player 2 wins!\")\n",
    "elif result == -1:\n",
    "    print(\"Game is incomplete.\")\n",
    "else:\n",
    "    print(\"Game is a draw.\")"
   ]
  },
  {
   "cell_type": "code",
   "execution_count": 34,
   "metadata": {
    "tags": []
   },
   "outputs": [
    {
     "name": "stdout",
     "output_type": "stream",
     "text": [
      "Game is a draw.\n"
     ]
    }
   ],
   "source": [
    "no_winner = [[1, 2, 0],\n",
    "             [2, 1, 0],\n",
    "             [2, 1, 2]]\n",
    "result = check_winner(no_winner)\n",
    "if result == player_1:\n",
    "    print(\"Player 1 wins!\")\n",
    "elif result == player_2:\n",
    "    print(\"Player 2 wins!\")\n",
    "elif result == -1:\n",
    "    print(\"Game is incomplete.\")\n",
    "else:\n",
    "    print(\"Game is a draw.\")"
   ]
  },
  {
   "cell_type": "code",
   "execution_count": 35,
   "metadata": {
    "tags": []
   },
   "outputs": [
    {
     "name": "stdout",
     "output_type": "stream",
     "text": [
      "Game is a draw.\n"
     ]
    }
   ],
   "source": [
    "also_no_winner = [[1, 2, 0],\n",
    "                  [2, 1, 0],\n",
    "                  [2, 1, 0]]\n",
    "result = check_winner(also_no_winner)\n",
    "if result == player_1:\n",
    "    print(\"Player 1 wins!\")\n",
    "elif result == player_2:\n",
    "    print(\"Player 2 wins!\")\n",
    "elif result == -1:\n",
    "    print(\"Game is incomplete.\")\n",
    "else:\n",
    "    print(\"Game is a draw.\")"
   ]
  },
  {
   "cell_type": "markdown",
   "metadata": {},
   "source": [
    "*Exercise 5:* Write a function that takes a game board, player number, and `(x,y)` coordinates and places \"X\" or \"O\" in the correct location of the game board. Make sure that you only allow filling previously empty locations. Return `True` or `False` to indicate successful placement of \"X\" or \"O\"."
   ]
  },
  {
   "cell_type": "code",
   "execution_count": 41,
   "metadata": {
    "tags": []
   },
   "outputs": [],
   "source": [
    "left_move=0\n",
    "right_move=1\n",
    "player_1_left_move=(1,1)\n",
    "player_1_right_move=(1,-1)\n",
    "\n",
    "player_2_left_move=(-1,-1)\n",
    "player_2_right_move=(-1,1)\n",
    "\n",
    "\n",
    "moves={ player_1: {left_move: player_1_left_move, \n",
    "                   right_move:player_1_right_move},\n",
    "        player_2: {left_move: player_2_left_move, \n",
    "                   right_move: player_2_right_move}} # making a dictionary that shows the moves the each player can move\n",
    "\n",
    "moves\n",
    "\n",
    "def move_piece(board,player,location,move,verbose=True): \n",
    "    x,y=location\n",
    "\n",
    "    x_offset,y_offset = moves[player][move] \n",
    "    \n",
    "    move_possible = (\n",
    "        x + x_offset < size and\n",
    "        x + x_offset >= 0 and\n",
    "        y + y_offset < size and\n",
    "        y + y_offset >= 0\n",
    ")\n",
    "\n",
    "    if not (move_possible): \n",
    "        print_message(\"Move is off of board.\",verbose)\n",
    "        return False \n",
    "    \n",
    "    if (move_possible and \n",
    "        board[x+x_offset][y+y_offset]==empty): \n",
    "  \n",
    "        board[x][y]=empty \n",
    "        board[x+x_offset][y+y_offset]=player\n",
    "        print_message(\"Moved.\",verbose)            \n",
    "\n",
    "        return True\n",
    " \n",
    "        board[x][y]=empty\n",
    "        board[x+x_offset][y+y_offset]=empty \n",
    "        board[x+2*x_offset][y+2*y_offset]=player\n",
    "        print_message(\"Took opponent's piece.\",verbose)\n",
    "        \n",
    "        return True\n",
    "    else:\n",
    "        print_message(\"Move not possible.\",verbose)\n",
    "        return False\n",
    "    \n",
    "def print_message(message,verbose=True):\n",
    "    if verbose: \n",
    "        print(message)"
   ]
  },
  {
   "cell_type": "code",
   "execution_count": 42,
   "metadata": {
    "tags": []
   },
   "outputs": [
    {
     "name": "stdout",
     "output_type": "stream",
     "text": [
      "Move is off of board.\n"
     ]
    },
    {
     "data": {
      "text/plain": [
       "[[1, 0, 0], [0, 2, 0], [0, 0, 0]]"
      ]
     },
     "execution_count": 42,
     "metadata": {},
     "output_type": "execute_result"
    }
   ],
   "source": [
    "move_piece(board_0,player_1,(2,1),left_move)\n",
    "board_0"
   ]
  },
  {
   "cell_type": "markdown",
   "metadata": {},
   "source": [
    "*Exercise 6:* Modify Exercise 3 to show column and row labels so that players can specify location using \"A2\" or \"C1\"."
   ]
  },
  {
   "cell_type": "code",
   "execution_count": 43,
   "metadata": {
    "tags": []
   },
   "outputs": [],
   "source": [
    "row_names=list(\"ABCDEFGHIJKLMNOPQRSTUVWXYZ\")\n",
    "row_map=dict(zip(row_names,range(size)))\n",
    "\n",
    "column_names=list(map(str,range(1,size+1))) \n",
    "column_map=dict(zip(column_names,range(size)))\n",
    "\n",
    "def draw_board(board):\n",
    "    print(\" \",end=\" \")\n",
    "    for j in range(size):\n",
    "        print(column_names[j],end=\" \")\n",
    "    print()\n",
    "    \n",
    "    for i in range(size):\n",
    "        print(row_names[i],end=\" \")\n",
    "        for j in range(size):\n",
    "            print(space_character[board[i][j]],end=\" \")\n",
    "        print()\n"
   ]
  },
  {
   "cell_type": "code",
   "execution_count": 44,
   "metadata": {
    "tags": []
   },
   "outputs": [
    {
     "name": "stdout",
     "output_type": "stream",
     "text": [
      "  1 2 3 \n",
      "A X     \n",
      "B   O   \n",
      "C       \n"
     ]
    }
   ],
   "source": [
    "draw_board(board_0)"
   ]
  },
  {
   "cell_type": "markdown",
   "metadata": {},
   "source": [
    "*Exercise 7:* Write a function that takes a board, player number, and location specified as in exercise 6 and then calls exercise 5 to correctly modify the board.  "
   ]
  },
  {
   "cell_type": "code",
   "execution_count": 45,
   "metadata": {
    "tags": []
   },
   "outputs": [],
   "source": [
    "def parse_location(l_string): \n",
    "    if not isinstance(l_string,str):\n",
    "        print_message(\"Bad Input. Location must be string.\")\n",
    "        return False\n",
    "    \n",
    "    if len(l_string)!=2: \n",
    "        print_message(\"Bad Input. Location must be 2 characters.\") \n",
    "        return False\n",
    "    \n",
    "    row=l_string[0].upper()\n",
    "    col=l_string[1].upper()\n",
    "    \n",
    "    if not row in row_names: \n",
    "        print_message(\"Bad Row.\") \n",
    "        return False\n",
    "\n",
    "    if not col in column_names: \n",
    "        print_message(\"Bad Column.\") \n",
    "        return False\n",
    "\n",
    "    return row_map[row],column_map[col]\n",
    "\n",
    "def parse_move(m_string):\n",
    "    if not isinstance(m_string,str):\n",
    "        print_message(\"Bad Input. Location must be string.\")\n",
    "        return -1\n",
    "    \n",
    "    if len(m_string)!=1:\n",
    "        print_message(\"Bad Input. Location must be 1 character.\")\n",
    "        return -1\n",
    "    \n",
    "    if m_string.upper()==\"L\": # another way to right this, but for moving in the left or right direction\n",
    "        return left_move\n",
    "\n",
    "    if m_string.upper()==\"R\":\n",
    "        return right_move\n",
    "\n",
    "    print_message(\"Bad Move. must be R/L.\")\n",
    "    \n",
    "    return -1"
   ]
  },
  {
   "cell_type": "code",
   "execution_count": 46,
   "metadata": {
    "tags": []
   },
   "outputs": [
    {
     "data": {
      "text/plain": [
       "(1, 1)"
      ]
     },
     "execution_count": 46,
     "metadata": {},
     "output_type": "execute_result"
    }
   ],
   "source": [
    "parse_location(\"B2\")"
   ]
  },
  {
   "cell_type": "markdown",
   "metadata": {},
   "source": [
    "*Exercise 8:* Write a function is called with a board and player number, takes input from the player using python's `input`, and modifies the board using your function from exercise 7. Note that you should keep asking for input until you have gotten a valid input that results in a valid move."
   ]
  },
  {
   "cell_type": "code",
   "execution_count": 47,
   "metadata": {
    "tags": []
   },
   "outputs": [],
   "source": [
    "def nice_move_piece(board,player,location,move):\n",
    "    loc=parse_location(location)\n",
    "    mov=parse_move(move)\n",
    "\n",
    "    if loc and mov!=-1:\n",
    "        return move_piece(board,player,loc,mov) # if the move and location is good then move\n",
    "    else:\n",
    "        print_message(\"Bad move.\") # if not then print this\n",
    "        return False \n",
    "    \n",
    "def take_move(board,player):\n",
    "    good_move=False\n",
    "    \n",
    "    while not good_move:\n",
    "        loc_str =input(\"Input location:\") \n",
    "        mov_str =input(\"Input move (L/R):\")\n",
    "            \n",
    "        good_move = nice_move_piece(board,player,loc_str,mov_str)"
   ]
  },
  {
   "cell_type": "code",
   "execution_count": 48,
   "metadata": {
    "tags": []
   },
   "outputs": [
    {
     "name": "stdout",
     "output_type": "stream",
     "text": [
      "  1 2 3 \n",
      "A       \n",
      "B       \n",
      "C       \n"
     ]
    },
    {
     "name": "stdin",
     "output_type": "stream",
     "text": [
      "Input location: b2\n",
      "Input move (L/R): l\n"
     ]
    },
    {
     "name": "stdout",
     "output_type": "stream",
     "text": [
      "Moved.\n",
      "  1 2 3 \n",
      "A       \n",
      "B       \n",
      "C     X \n"
     ]
    }
   ],
   "source": [
    "board_0=make_ttt_board() \n",
    "draw_board(board_0) \n",
    "take_move(board_0,player_1) \n",
    "draw_board(board_0)"
   ]
  },
  {
   "cell_type": "markdown",
   "metadata": {},
   "source": [
    "*Exercise 9:* Use all of the previous exercises to implement a full tic-tac-toe game, where an appropriate board is drawn, 2 players are repeatedly asked for a location coordinates of where they wish to place a mark, and the game status is checked until a player wins or a draw occurs."
   ]
  },
  {
   "cell_type": "code",
   "execution_count": 49,
   "metadata": {
    "tags": []
   },
   "outputs": [],
   "source": [
    "def count_pieces(board,player):\n",
    "    n=0\n",
    "    for i in range(size):\n",
    "        for j in range(size):\n",
    "            if board[i][j]==player:\n",
    "                n+=1                \n",
    "    return n\n",
    "\n",
    "\n",
    "def game_won(board):\n",
    "    player_1_n=count_pieces(board,player_1) # count all the pieces\n",
    "    player_2_n=count_pieces(board,player_2)\n",
    "\n",
    "    if player_1_n==0: # if 0 pieces for player 1, then return to player 2\n",
    "        return player_2\n",
    "    if player_2_n==0: # same for player 2\n",
    "        return player_1\n",
    "\n",
    "    return False\n",
    "\n",
    "def ttt_game():\n",
    "    \n",
    "    print (\"Welcome to Tic-Tac-Toe.\")\n",
    "    print (\"--------------------\")\n",
    "\n",
    "    # Make a game board\n",
    "    board_0=make_ttt_board()\n",
    "    \n",
    "    # Start with player 1\n",
    "    player=player_1 # current player\n",
    "    \n",
    "    this_game_won=False # play/ repeat until the game is won\n",
    "    while not this_game_won: # of the game has not been won\n",
    "        # Draw the board\n",
    "        draw_board(board_0) # draw the board\n",
    "        \n",
    "        # Make a move\n",
    "        print(\"Player\",player,\"move:\") # print this \n",
    "        take_move(board_0,player) # have player input their move\n",
    "\n",
    "        # Check if the game has been won\n",
    "        this_game_won=game_won(board_0) \n",
    "\n",
    "        # Switch players\n",
    "        if player==player_1: # if the game is not won, then move on to the next player\n",
    "            player=player_2\n",
    "        else:\n",
    "            player=player_1 \n",
    "            \n",
    "        \n",
    "    print(\"Winner is player:\",this_game_won) "
   ]
  },
  {
   "cell_type": "code",
   "execution_count": 50,
   "metadata": {
    "tags": []
   },
   "outputs": [
    {
     "name": "stdout",
     "output_type": "stream",
     "text": [
      "Welcome to Tic-Tac-Toe.\n",
      "--------------------\n",
      "  1 2 3 \n",
      "A       \n",
      "B       \n",
      "C       \n",
      "Player 1 move:\n"
     ]
    },
    {
     "name": "stdin",
     "output_type": "stream",
     "text": [
      "Input location: a1\n",
      "Input move (L/R): l\n"
     ]
    },
    {
     "name": "stdout",
     "output_type": "stream",
     "text": [
      "Moved.\n",
      "Winner is player: 1\n"
     ]
    }
   ],
   "source": [
    "ttt_game() #this is not right"
   ]
  },
  {
   "cell_type": "markdown",
   "metadata": {},
   "source": [
    "*Exercise 10:* Test that your game works for 5x5 Tic Tac Toe.  "
   ]
  },
  {
   "cell_type": "code",
   "execution_count": null,
   "metadata": {},
   "outputs": [],
   "source": [
    "# Test your solution here"
   ]
  },
  {
   "cell_type": "markdown",
   "metadata": {},
   "source": [
    "*Exercise 11:* (Advanced / Challenge) Develop a version of the game where one player is the computer. Note that you don't need to do an extensive seach for the best move. You can have the computer simply protect against loosing and otherwise try to win with straight or diagonal patterns."
   ]
  },
  {
   "cell_type": "code",
   "execution_count": null,
   "metadata": {},
   "outputs": [],
   "source": [
    "# Write you solution here"
   ]
  },
  {
   "cell_type": "code",
   "execution_count": null,
   "metadata": {
    "tags": []
   },
   "outputs": [],
   "source": [
    "# Test your solution here"
   ]
  }
 ],
 "metadata": {
  "kernelspec": {
   "display_name": "Python 3 (ipykernel)",
   "language": "python",
   "name": "python3"
  },
  "language_info": {
   "codemirror_mode": {
    "name": "ipython",
    "version": 3
   },
   "file_extension": ".py",
   "mimetype": "text/x-python",
   "name": "python",
   "nbconvert_exporter": "python",
   "pygments_lexer": "ipython3",
   "version": "3.9.6"
  }
 },
 "nbformat": 4,
 "nbformat_minor": 4
}
