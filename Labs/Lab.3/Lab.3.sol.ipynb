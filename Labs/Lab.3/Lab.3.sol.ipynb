{
 "cells": [
  {
   "cell_type": "markdown",
   "metadata": {},
   "source": [
    "# Lab 3\n",
    "\n",
    "In this lab we will become familiar with distributions, histograms, and functional programming. Do not use numpy or any other library for this lab.\n",
    "\n",
    "Before that, lets get setup homework submission and submit your previous lab.  \n",
    "\n",
    "## Working on the Command-line.\n",
    "\n",
    "It is important for you to learn to work on the command line and to be familiar with the Unix environment (e.g. Linux, Mac OS, or Windows Linux Subsystem). We'll go over working on the command-line in detail later in the course.\n",
    "\n",
    "You are required to submit your work in this course via GitHub. Today in class, you will setup everything on the command-line.\n",
    "\n",
    "### Command-line basics\n",
    "\n",
    "There is plenty of material online that will help you figure out how to do various tasks on the command line. Commands you may need to know today:\n",
    "\n",
    "* `ls`: lists the contents of the current directory.\n",
    "* `pwd`: prints the path of the current directory.\n",
    "* `cd <directory>`: changes your current directory to the specified directory.\n",
    "* `cd ..`: changes current directory to the previous directory. Basically steps out of the current directory to the directory containing the current directory.\n",
    "* `mkdir <directory>`: create a new directory with the specified name.\n",
    "* `rmdir <directory>`: removes the specified directory. Note it has to be empty.\n",
    "* `rm <filename>`: deletes the specified file.\n",
    "* `mv <filename 1> <filename 2>`: Moves or renames a file.\n",
    "* `cp <filename 1> <filename 2>`: copies an file. If you just provide a path to a directory, it copies the file into that directory with the same filename. If you specifiy a new filename, the copy has a new name. For example `cp File.1.txt File.2.txt` creates a copy of `File.1.txt` with the name `File.2.txt`. Meanwhile `cp File.1.txt my_directory`, where `my_directory` is a directory, creates a copy of `File.1.txt` in directory `my_directory` with the name `File.1.txt`.\n",
    "\n",
    "For reference, here are some example resources I found by googling:\n",
    "\n",
    "* Paths and Wildcards: https://www.warp.dev/terminus/linux-wildcards\n",
    "* Basic commands like copy: https://kb.iu.edu/d/afsk\n",
    "* General introduction to shell: https://github-pages.ucl.ac.uk/RCPSTrainingMaterials/HPCandHTCusingLegion/2_intro_to_shell.html\n",
    "* Manual pages: https://www.geeksforgeeks.org/linux-man-page-entries-different-types/?ref=ml_lbp\n",
    "* Chaining commands: https://www.geeksforgeeks.org/chaining-commands-in-linux/?ref=ml_lbp\n",
    "* Piping: https://www.geeksforgeeks.org/piping-in-unix-or-linux/\n",
    "* Using sed: https://www.geeksforgeeks.org/sed-command-linux-set-2/?ref=ml_lbp\n",
    "* Various Unix commands: https://www.geeksforgeeks.org/linux-commands/?ref=lbp\n",
    "* Cheat sheets:\n",
    "    * https://www.stationx.net/unix-commands-cheat-sheet/\n",
    "    * https://cheatography.com/davechild/cheat-sheets/linux-command-line/\n",
    "    * https://www.theknowledgeacademy.com/blog/unix-commands-cheat-sheet/\n",
    "    \n",
    "These aren't necessarily the best resources. Feel free to search for better ones. Also, don't forget that Unix has built-in manual pages for all of its commands. Just type `man <command>` at the command prompt. Use the space-bar to scroll through the documentation and \"q\" to exit.\n",
    "\n",
    "\n",
    "### Setup and Submission\n",
    "\n",
    "Our course repository is public. The instructions here aim to have you setup a fork of the course repository. Unfortunately because you are forking a public repo, your fork will have to be public also. \n",
    "\n",
    "You should be familiar with git from the first semester of this course. I assume that you all have github accounts and have setup things to be able to [push to github using ssh](https://docs.github.com/en/github/authenticating-to-github/connecting-to-github-with-ssh). The instuctions here lead you to:\n",
    "\n",
    "We'll overview what you will do before going through step by step instructions.\n",
    "\n",
    "1. Setup:\n",
    "    1. Fork the class repository. Some directions in [fork-a-repo](https://docs.github.com/en/github/getting-started-with-github/fork-a-repo).\n",
    "    1. Create a directory on your personal system where you will keep all course materials.\n",
    "    1. In that directory, clone your fork of the repository.\n",
    "    1. Using `git remote`, set the upstream to be the class repo, so you can pull from the class and push to your fork.\n",
    "\n",
    "1. Submission:\n",
    "    1. Copy your solutions into the appropriate directory (e.g. into `Labs/Lab.2/`) and with appropriate filename `Lab.2.solution.ipynb'.\n",
    "    1. Commit / push your solutions.\n",
    " \n",
    "Below are step by step instructions with examples (including example directory naming convention). Feel free to modify things as you see fit. \n",
    "\n",
    "#### Setup\n",
    "You should only need to follow this instructions once. Here are some useful git commands:\n",
    "\n",
    "* Git help: `git help`\n",
    "* Git remote help: `git help remote`\n",
    "* Check remote status: `git remote -v`\n",
    "* Add a remote: `git remote add <stream name> <repo URL>`\n",
    "* Add a remove: `git remote remove <stream name>`\n",
    "\n",
    "Steps:\n",
    "1. In a browser, log into GitHub and navigate to the [course repository](https://github.com/UTA-DataScience/DATA3402.Spring.2025).\n",
    "1. On the top right of the page, press the fork button to create a new fork into your own GitHub account.\n",
    "1. After successful fork, you should find the browser showing your fork of the course repository. Use the green \"Code\" button to copy path to the repo into your the clipboard of your computer.\n",
    "1. Open a shell on your personal computer.\n",
    "1. If you have not done so already, create a new directory/folder where you will keep all course material to navigate to it. For example: `mkdir Data-3402` and `cd Data-3402`.\n",
    "1. Clone your fork of the repository using `git clone` followed by the path you copied into your clipboard. (copy/paste)\n",
    "1. Paste the URL to your fork in the worksheet for the TAs and instructors.\n",
    "1. Now go into the directory of your clone (`cd DATA3402.Spring.2025`).\n",
    "1. Type `git remote -v` to see the current setup for fetch and pull.\n",
    "1. Note the URL you see. This should be the same as what you used for your clone for both push and fetch.\n",
    "1. Delete the origin remote using `git remote remove origin`.\n",
    "1. Add the course repo as your remote using `git remote add origin https://github.com/UTA-DataScience/DATA3402.Spring.2025.git`.\n",
    "1. Change the push to point to your fork. This means you will need the URL to your clone we copied earlier and confirmed as the original origin. The command will look something like: `git remote set-url --push origin  https://github.com/XXXXXX/DATA3402.Spring.2025.git`, where XXXXX is your username on GitHub.\n",
    "1. Note that if you setup everything correctly, you now should be able to do `git pull` to get updates from the course repo, and do `git push` to push your commits into your own fork.\n",
    "\n",
    "### Submission\n",
    "These instructions outline how you submit files. Some useful commands:\n",
    "* To add a file to local repository: `git add <file>`.\n",
    "* To commit all changed files into local repository: `git -a -m \"A message\"`. You need to provide some comment when you commit. \n",
    "* To push the commited files from the local repository to GitHub: `git push`.\n",
    "* To get updates from GitHub: `git pull`.\n",
    "\n",
    "Steps:\n",
    "1. To submit your labs, navigate to your clone of your fork of the course repository. \n",
    "1. Use `git pull` to make sure you have the latest updates. \n",
    "1. Make sure your copy of the lab your are working on is in the appropriate place in this clone. That means if you have the file elsewhere, copy it to the same directory in your clone of your fork. \n",
    "1. Note that in order to avoid future conflicts, you should always name your solution differently than the original file in the class repo. For example if your file is still named `Lab.2.ipynb` you should rename it using the `mv` command: `mv Lab.2.ipynb Lab.2.solution.ipynb`. \n",
    "1. Add and files you wish to submit into the repo. For example: `git add Labs/Lab.2/Lab.2.solution.ipynb`\n",
    "1. Commit any changes: `git commit -a -m \"Lab 2 updates\"`\n",
    "1. Push your changes: `git push`\n",
    "1. Check on github website that your solutions have been properly submitted.\n",
    "\n",
    "Before you leave the session today, make sure your GitHub Repo is setup. If you need to work further on your lab, navigate jupyter to the copy of the lab you just submitted and work there. Once done, repeat the commit and push commands to submit your updated solution. Note that lab 2 is due by midnight Friay 1/31/2025.\n"
   ]
  },
  {
   "cell_type": "markdown",
   "metadata": {},
   "source": [
    "### Uniform Distribution\n",
    "Lets start with generating some fake random data. You can get a random number between 0 and 1 using the python random module as follow:"
   ]
  },
  {
   "cell_type": "code",
   "execution_count": 1,
   "metadata": {
    "tags": []
   },
   "outputs": [
    {
     "name": "stdout",
     "output_type": "stream",
     "text": [
      "The Value of x is 0.3019518326142523\n"
     ]
    }
   ],
   "source": [
    "import random\n",
    "x=random.random()\n",
    "print(\"The Value of x is\", x)"
   ]
  },
  {
   "cell_type": "markdown",
   "metadata": {},
   "source": [
    "Everytime you call random, you will get a new number.\n",
    "\n",
    "*Exercise 1:* Using random, write a function `generate_uniform(N, mymin, mymax)`, that returns a python list containing N random numbers between specified minimum and maximum value. Note that you may want to quickly work out on paper how to turn numbers between 0 and 1 to between other values. "
   ]
  },
  {
   "cell_type": "code",
   "execution_count": 2,
   "metadata": {
    "tags": []
   },
   "outputs": [
    {
     "name": "stdout",
     "output_type": "stream",
     "text": [
      "[0.3019518326142523, 0.3019518326142523, 0.3019518326142523, 0.3019518326142523, 0.3019518326142523, 0.3019518326142523, 0.3019518326142523, 0.3019518326142523, 0.3019518326142523, 0.3019518326142523]\n"
     ]
    }
   ],
   "source": [
    "# Skeleton\n",
    "def generate_uniform(N,x_min,x_max):\n",
    "    out = []\n",
    "    for i in range(N):\n",
    "        random_num = x\n",
    "        scaled_num=random_num*(x_max-x_min)+x_min\n",
    "        out.append(scaled_num)\n",
    "    return out\n",
    "\n",
    "N = 10\n",
    "x_min = 0\n",
    "x_max = 1\n",
    "random_list=generate_uniform(N,x_min,x_max)\n",
    "print(random_list)"
   ]
  },
  {
   "cell_type": "code",
   "execution_count": 22,
   "metadata": {
    "tags": []
   },
   "outputs": [
    {
     "name": "stdout",
     "output_type": "stream",
     "text": [
      "Data Type: <class 'list'>\n",
      "Data Length: 1000\n",
      "Type of Data Contents: <class 'float'>\n",
      "Data Minimum: -3.960963347714954\n",
      "Data Maximum: -3.960963347714954\n"
     ]
    }
   ],
   "source": [
    "# Test your solution here\n",
    "data=generate_uniform(1000,-10,10)\n",
    "print (\"Data Type:\", type(data))\n",
    "print (\"Data Length:\", len(data))\n",
    "if len(data)>0: \n",
    "    print (\"Type of Data Contents:\", type(data[0]))\n",
    "    print (\"Data Minimum:\", min(data))\n",
    "    print (\"Data Maximum:\", max(data))"
   ]
  },
  {
   "cell_type": "markdown",
   "metadata": {},
   "source": [
    "*Exercise 2a:* \n",
    "Write a function that computes the mean of values in a list. Recall the equation for the mean of a random variable $\\bf{x}$ computed on a data set of $n$ values $\\{ x_i \\} = \\{x_1, x_2, ..., x_n\\}$  is ${\\bf\\bar{x}} = \\frac{1}{n} \\sum_i^n x_i$."
   ]
  },
  {
   "cell_type": "code",
   "execution_count": 23,
   "metadata": {
    "tags": []
   },
   "outputs": [],
   "source": [
    "# Skeleton\n",
    "def mean(Data):\n",
    "    m = 0.\n",
    "    if len(Data) == 0:\n",
    "        return None \n",
    "    m = sum(Data) / len(Data)  \n",
    "    return m"
   ]
  },
  {
   "cell_type": "code",
   "execution_count": 24,
   "metadata": {
    "tags": []
   },
   "outputs": [
    {
     "name": "stdout",
     "output_type": "stream",
     "text": [
      "Mean of Data: -3.9609633477149133\n"
     ]
    }
   ],
   "source": [
    "# Test your solution here\n",
    "print (\"Mean of Data:\", mean(data))"
   ]
  },
  {
   "cell_type": "markdown",
   "metadata": {},
   "source": [
    "*Exercise 2b:* \n",
    "Write a function that computes the variance of values in a list. Recall the equation for the variance of a random variable $\\bf{x}$ computed on a data set of $n$ values $\\{ x_i \\} = \\{x_1, x_2, ..., x_n\\}$  is ${\\bf\\langle x \\rangle} = \\frac{1}{n-1} \\sum_i^n (x_i - {\\bf\\bar{x}})^2$."
   ]
  },
  {
   "cell_type": "code",
   "execution_count": 25,
   "metadata": {
    "tags": []
   },
   "outputs": [],
   "source": [
    "# Skeleton\n",
    "def variance(Data):\n",
    "    m=0.\n",
    "    if len(Data) == 0:\n",
    "        return None\n",
    "    mean = sum(Data) / len(Data)  \n",
    "    m = sum((x - mean)** 2 for x in Data) / (len(Data) - 1)\n",
    "    return m"
   ]
  },
  {
   "cell_type": "code",
   "execution_count": 26,
   "metadata": {
    "tags": []
   },
   "outputs": [
    {
     "name": "stdout",
     "output_type": "stream",
     "text": [
      "Variance of Data: 1.6709005760236847e-27\n"
     ]
    }
   ],
   "source": [
    "# Test your solution here\n",
    "print (\"Variance of Data:\", variance(data))"
   ]
  },
  {
   "cell_type": "markdown",
   "metadata": {},
   "source": [
    "## Histogramming"
   ]
  },
  {
   "cell_type": "markdown",
   "metadata": {},
   "source": [
    "*Exercise 3:* Write a function that bins the data so that you can create a histogram. An example of how to implement histogramming is the following logic:\n",
    "\n",
    "* User inputs a list of values `x` and optionally `n_bins` which defaults to 10.\n",
    "* If not supplied, find the minimum and maximum (`x_min`,`x_max`) of the values in x.\n",
    "* Determine the bin size (`bin_size`) by dividing the range of the function by the number of bins.\n",
    "* Create an empty list of zeros of size `n_bins`, call it `hist`.\n",
    "* Loop over the values in `x`\n",
    "    * Loop over the values in `hist` with index `i`:\n",
    "        * If x is between `x_min+i*bin_size` and `x_min+(i+1)*bin_size`, increment `hist[i].` \n",
    "        * For efficiency, try to use continue to goto the next bin and data point.\n",
    "* Return `hist` and the list corresponding of the bin edges (i.e. of `x_min+i*bin_size`).    "
   ]
  },
  {
   "cell_type": "code",
   "execution_count": 37,
   "metadata": {
    "tags": []
   },
   "outputs": [],
   "source": [
    "def histogram(x,n_bins=10,x_min=None,x_max=None):\n",
    "    if x_min==None:\n",
    "        x_min=min(Data)\n",
    "    if x_max==None:\n",
    "        x_max=max(Data)\n",
    "        \n",
    "    bin_size = (x_max - x_min) / n_bins\n",
    "    bin_edge = linspace(x_min,x_max,n_bins)\n",
    "    bin_edge.append(x_max)\n",
    "    \n",
    "    hist=[0]*n_bins\n",
    "    for d in Data:\n",
    "        for i in range(n_bins):\n",
    "            if x_min + i * bin_size <= d < x_min + (i + 1) * bin_size:\n",
    "                hist[i] += 1\n",
    "                continue \n",
    "    return hist,bin_edge"
   ]
  },
  {
   "cell_type": "code",
   "execution_count": 47,
   "metadata": {
    "tags": []
   },
   "outputs": [
    {
     "name": "stdout",
     "output_type": "stream",
     "text": [
      "[3, 3.07, 3.1399999999999997, 3.2099999999999995, 3.2799999999999994, 3.349999999999999, 3.419999999999999, 3.489999999999999, 3.5599999999999987, 3.6299999999999986, 3.6999999999999984, 3.7699999999999982, 3.839999999999998, 3.909999999999998, 3.9799999999999978, 4.049999999999998, 4.119999999999998, 4.189999999999999, 4.259999999999999, 4.329999999999999, 4.3999999999999995, 4.47, 4.54, 4.61, 4.680000000000001, 4.750000000000001, 4.820000000000001, 4.8900000000000015, 4.960000000000002, 5.030000000000002, 5.100000000000002, 5.170000000000003, 5.240000000000003, 5.310000000000003, 5.3800000000000034, 5.450000000000004, 5.520000000000004, 5.590000000000004, 5.660000000000005, 5.730000000000005, 5.800000000000005, 5.870000000000005, 5.940000000000006, 6.010000000000006, 6.080000000000006, 6.150000000000007, 6.220000000000007, 6.290000000000007, 6.360000000000007, 6.430000000000008, 6.500000000000008, 6.570000000000008, 6.640000000000009, 6.710000000000009, 6.780000000000009, 6.850000000000009, 6.92000000000001, 6.99000000000001, 7.06000000000001, 7.1300000000000106, 7.200000000000011, 7.270000000000011, 7.340000000000011, 7.410000000000012, 7.480000000000012, 7.550000000000012, 7.6200000000000125, 7.690000000000013, 7.760000000000013, 7.830000000000013, 7.900000000000014, 7.970000000000014, 8.040000000000013, 8.110000000000014, 8.180000000000014, 8.250000000000014, 8.320000000000014, 8.390000000000015, 8.460000000000015, 8.530000000000015, 8.600000000000016, 8.670000000000016, 8.740000000000016, 8.810000000000016, 8.880000000000017, 8.950000000000017, 9.020000000000017, 9.090000000000018, 9.160000000000018, 9.230000000000018, 9.300000000000018, 9.370000000000019, 9.440000000000019, 9.51000000000002, 9.58000000000002, 9.65000000000002, 9.72000000000002, 9.79000000000002, 9.86000000000002, 9.930000000000021, 10]\n"
     ]
    }
   ],
   "source": [
    "# Test your solution here\n",
    "h,b=histogram(data,100,3,10)\n",
    "print(b)"
   ]
  },
  {
   "cell_type": "markdown",
   "metadata": {},
   "source": [
    "*Exercise 4:* Write a function that uses the histogram function in the previous exercise to create a text-based \"graph\". For example the output could look like the following:\n",
    "```\n",
    "[  0,  1] : ######\n",
    "[  1,  2] : #####\n",
    "[  2,  3] : ######\n",
    "[  3,  4] : ####\n",
    "[  4,  5] : ####\n",
    "[  5,  6] : ######\n",
    "[  6,  7] : #####\n",
    "[  7,  8] : ######\n",
    "[  8,  9] : ####\n",
    "[  9, 10] : #####\n",
    "```\n",
    "\n",
    "Where each line corresponds to a bin and the number of `#`'s are proportional to the value of the data in the bin. "
   ]
  },
  {
   "cell_type": "code",
   "execution_count": 51,
   "metadata": {
    "tags": []
   },
   "outputs": [],
   "source": [
    "# Solution\n",
    "def draw_histogram(x, n_bins=10, x_min=None, x_max=None, character=\"#\", max_character_per_line=20):\n",
    "    hist, bin_edges = histogram(x, n_bins, x_min, x_max)\n",
    "    max_count = max(hist)\n",
    "    for i in range(n_bins):\n",
    "        bin_range = f\"[{bin_edges[i]:.2f}, {bin_edges[i+1]:.2f}]\"\n",
    "\n",
    "        if max_count > 0:\n",
    "            num_chars = int((hist[i] / max_count) * max_character_per_line)\n",
    "        else:\n",
    "            num_chars = 0\n",
    "        bar = character * num_chars\n",
    "        print(f\"{bin_range} : {bar}\")\n",
    "    return hist, bin_edges"
   ]
  },
  {
   "cell_type": "code",
   "execution_count": 53,
   "metadata": {
    "tags": []
   },
   "outputs": [
    {
     "name": "stdout",
     "output_type": "stream",
     "text": [
      "[0.00, 1.00] : \n",
      "[1.00, 2.00] : ####################\n",
      "[2.00, 3.00] : ####################\n",
      "[3.00, 4.00] : ####################\n",
      "[4.00, 5.00] : ####################\n"
     ]
    }
   ],
   "source": [
    "# Test your solution here\n",
    "data = [1, 2, 2, 3, 3, 3, 4, 4, 4, 4, 5, 5, 5, 5, 5]\n",
    "h, b = draw_histogram(data, n_bins=5, x_min=0, x_max=5)"
   ]
  },
  {
   "cell_type": "markdown",
   "metadata": {},
   "source": [
    "## Functional Programming\n",
    "\n",
    "*Exercise 5:* Write a function the applies a booling function (that returns true/false) to every element in data, and return a list of indices of elements where the result was true. Use this function to find the indices of entries greater than 0.5. "
   ]
  },
  {
   "cell_type": "code",
   "execution_count": 56,
   "metadata": {
    "tags": []
   },
   "outputs": [],
   "source": [
    "def where(mylist, myfunc):\n",
    "    out = []\n",
    "    for i, element in enumerate(mylist):\n",
    "        if myfunc(element):\n",
    "            out.append(i)\n",
    "    return out"
   ]
  },
  {
   "cell_type": "code",
   "execution_count": 57,
   "metadata": {
    "tags": []
   },
   "outputs": [
    {
     "name": "stdout",
     "output_type": "stream",
     "text": [
      "[1, 3]\n"
     ]
    }
   ],
   "source": [
    "data = [0.2, 0.7, 0.4, 0.9, 0.1]\n",
    "indices = where(data, lambda x: x > 0.5)\n",
    "print(indices) "
   ]
  },
  {
   "cell_type": "markdown",
   "metadata": {},
   "source": [
    "*Exercise 6:* The `inrange(mymin,mymax)` function below returns a function that tests if it's input is between the specified values. Write corresponding functions that test:\n",
    "* Even\n",
    "* Odd\n",
    "* Greater than\n",
    "* Less than\n",
    "* Equal\n",
    "* Divisible by"
   ]
  },
  {
   "cell_type": "code",
   "execution_count": 64,
   "metadata": {
    "tags": []
   },
   "outputs": [
    {
     "name": "stdout",
     "output_type": "stream",
     "text": [
      "True True False False False\n",
      "False False True True False\n",
      "Number of Entries passing F1: 10\n",
      "Number of Entries passing F2: 10\n"
     ]
    }
   ],
   "source": [
    "def in_range(mymin,mymax):\n",
    "    def testrange(x):\n",
    "        return x<mymax and x>=mymin\n",
    "    return testrange\n",
    "\n",
    "def is_even():\n",
    "    def test_even(x):\n",
    "        return x % 2 == 0\n",
    "    return test_even\n",
    "\n",
    "def is_odd():\n",
    "    def test_odd(x):\n",
    "        return x % 2 != 0\n",
    "    return test_odd\n",
    "\n",
    "def greater_than(n):\n",
    "    def test_gt(x):\n",
    "        return x > n\n",
    "    return test_gt\n",
    "\n",
    "def less_than(n):\n",
    "    def test_lt(x):\n",
    "        return x < n\n",
    "    return test_lt\n",
    "\n",
    "def equal_to(n):\n",
    "    def test_eq(x):\n",
    "        return x == n\n",
    "    return test_eq\n",
    "\n",
    "def divisible_by(n):\n",
    "    def test_div(x):\n",
    "        return x % n == 0\n",
    "    return test_div\n",
    "\n",
    "data = list(range(20))\n",
    "F1=in_range(0,10)\n",
    "F2=in_range(10,20)\n",
    "\n",
    "# Test of in_range\n",
    "print (F1(0), F1(1), F1(10), F1(15), F1(20))\n",
    "print (F2(0), F2(1), F2(10), F2(15), F2(20))\n",
    "\n",
    "print (\"Number of Entries passing F1:\", len(where(data,F1)))\n",
    "print (\"Number of Entries passing F2:\", len(where(data,F2)))"
   ]
  },
  {
   "cell_type": "markdown",
   "metadata": {},
   "source": [
    "*Exercise 7:* Repeat the previous exercise using `lambda` and the built-in python functions sum and map instead of your solution above. "
   ]
  },
  {
   "cell_type": "code",
   "execution_count": 65,
   "metadata": {
    "tags": []
   },
   "outputs": [
    {
     "name": "stdout",
     "output_type": "stream",
     "text": [
      "\n",
      "Lambda in_range tests:\n",
      "True True False False False\n",
      "False False True True False\n",
      "Number of Entries passing F1 (lambda): 10\n",
      "Number of Entries passing F2 (lambda): 10\n"
     ]
    }
   ],
   "source": [
    "in_range_lambda = lambda mymin, mymax: (lambda x: x < mymax and x >= mymin)\n",
    "is_even_lambda   = lambda: (lambda x: x % 2 == 0)\n",
    "is_odd_lambda    = lambda: (lambda x: x % 2 != 0)\n",
    "greater_than_lambda = lambda n: (lambda x: x > n)\n",
    "less_than_lambda    = lambda n: (lambda x: x < n)\n",
    "equal_to_lambda     = lambda n: (lambda x: x == n)\n",
    "divisible_by_lambda = lambda n: (lambda x: x % n == 0)\n",
    "\n",
    "data = list(range(20))\n",
    "F1_lambda = in_range_lambda(0, 10)\n",
    "F2_lambda = in_range_lambda(10, 20)\n",
    "print(\"\\nLambda in_range tests:\")\n",
    "print(F1_lambda(0), F1_lambda(1), F1_lambda(10), F1_lambda(15), F1_lambda(20))\n",
    "print(F2_lambda(0), F2_lambda(1), F2_lambda(10), F2_lambda(15), F2_lambda(20))\n",
    "\n",
    "count_F1 = sum(map(lambda x: 1 if F1_lambda(x) else 0, data))\n",
    "count_F2 = sum(map(lambda x: 1 if F2_lambda(x) else 0, data))\n",
    "print(\"Number of Entries passing F1 (lambda):\", count_F1)\n",
    "print(\"Number of Entries passing F2 (lambda):\", count_F2)"
   ]
  },
  {
   "cell_type": "markdown",
   "metadata": {},
   "source": [
    "## Monte Carlo\n",
    "\n",
    "*Exercise 7:* Write a \"generator\" function called `generate_function(func,x_min,x_max,N)`, that instead of generating a flat distribution, generates a distribution with functional form coded in `func`. Note that `func` will always be > 0.  \n",
    "\n",
    "Use the test function below and your histogramming functions above to demonstrate that your generator is working properly.\n",
    "\n",
    "Hint: A simple, but slow, solution is to a draw random number `test_x` within the specified range and another number `p` between the `min` and `max` of the function (which you will have to determine). If `p<=function(test_x)`, then place `test_x` on the output. If not, repeat the process, drawing two new numbers. Repeat until you have the specified number of generated numbers, `N`. For this problem, it's OK to determine the `min` and `max` by numerically sampling the function.  "
   ]
  },
  {
   "cell_type": "code",
   "execution_count": 67,
   "metadata": {
    "tags": []
   },
   "outputs": [],
   "source": [
    "def generate_function(func,x_min,x_max,N=1000):\n",
    "    out = list()\n",
    "    \n",
    "    sample_points = [x_min + i*(x_max - x_min) / 1000 for i in range(1001)]\n",
    "    f_max = max(func(x) for x in sample_points)\n",
    "    \n",
    "    while len(out) < N:\n",
    "        test_x = random.uniform(x_min, x_max)\n",
    "        p = random.uniform(0, f_max)\n",
    "        if p <= func(test_x):\n",
    "            out.append(test_x)\n",
    "    return out\n"
   ]
  },
  {
   "cell_type": "code",
   "execution_count": 71,
   "metadata": {
    "tags": []
   },
   "outputs": [
    {
     "name": "stdout",
     "output_type": "stream",
     "text": [
      "First 10 values: [-8.230703443214528, -9.475695850124593, -7.051492815382286, 9.869623220589268, 1.9357829564667224, -9.901115080614165, 4.920204545942845, 8.478167016960963, -9.234955393360549, -3.7183917852955]\n"
     ]
    }
   ],
   "source": [
    "# A test function\n",
    "def test_func(x,a=1,b=1):\n",
    "    return abs(a*x+b)\n",
    "gen_data = generate_function(lambda x: test_func(x, 1, 1), -10, 10, N=1000)\n",
    "print(\"First 10 values:\", gen_data[:10])"
   ]
  },
  {
   "cell_type": "markdown",
   "metadata": {},
   "source": [
    "*Exercise 8:* Use your function to generate 1000 numbers that are normal distributed, using the `gaussian` function below. Confirm the mean and variance of the data is close to the mean and variance you specify when building the Gaussian. Histogram the data. "
   ]
  },
  {
   "cell_type": "code",
   "execution_count": 77,
   "metadata": {
    "tags": []
   },
   "outputs": [
    {
     "name": "stdout",
     "output_type": "stream",
     "text": [
      "Sample Mean: -0.04722478324973569\n",
      "Sample Variance: 0.9727164433856671\n"
     ]
    }
   ],
   "source": [
    "import math\n",
    "\n",
    "def gaussian(mean, sigma):\n",
    "    def f(x):\n",
    "        return math.exp(-((x-mean)**2)/(2*sigma**2))/math.sqrt(math.pi*sigma)\n",
    "    return f\n",
    "\n",
    "# Example Instantiation\n",
    "g1=gaussian(0,1)\n",
    "g2=gaussian(10,3)\n",
    "normal_data = generate_function(g1, -10, 10, N=1000)\n",
    "\n",
    "def mean(normal_data):\n",
    "    m = 0.\n",
    "    if len(normal_data) == 0:\n",
    "        return None \n",
    "    m = sum(normal_data) / len(normal_data)  \n",
    "    return m\n",
    "\n",
    "def variance(normal_data):\n",
    "    m=0.\n",
    "    if len(normal_data) == 0:\n",
    "        return None\n",
    "    mean = sum(normal_data) / len(normal_data)  \n",
    "    m = sum((x - mean)** 2 for x in normal_data) / (len(normal_data) - 1)\n",
    "    return m\n",
    "\n",
    "print(\"Sample Mean:\", mean(normal_data))\n",
    "print(\"Sample Variance:\", variance(normal_data))"
   ]
  },
  {
   "cell_type": "markdown",
   "metadata": {},
   "source": [
    "*Exercise 9:* Combine your `generate_function`, `where`, and `in_range` functions above to create an integrate function. Use your integrate function to show that approximately 68% of Normal distribution is within one variance."
   ]
  },
  {
   "cell_type": "code",
   "execution_count": null,
   "metadata": {},
   "outputs": [],
   "source": [
    "def integrate(func, x_min, x_max, n_points=1000):\n",
    "    \n",
    "    return integral"
   ]
  },
  {
   "cell_type": "code",
   "execution_count": null,
   "metadata": {},
   "outputs": [],
   "source": []
  }
 ],
 "metadata": {
  "kernelspec": {
   "display_name": "Python 3 (ipykernel)",
   "language": "python",
   "name": "python3"
  },
  "language_info": {
   "codemirror_mode": {
    "name": "ipython",
    "version": 3
   },
   "file_extension": ".py",
   "mimetype": "text/x-python",
   "name": "python",
   "nbconvert_exporter": "python",
   "pygments_lexer": "ipython3",
   "version": "3.9.6"
  }
 },
 "nbformat": 4,
 "nbformat_minor": 4
}
